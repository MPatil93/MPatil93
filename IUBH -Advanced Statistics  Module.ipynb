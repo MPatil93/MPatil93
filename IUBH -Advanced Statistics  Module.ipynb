{
 "cells": [
  {
   "cell_type": "markdown",
   "id": "07c65a6b",
   "metadata": {},
   "source": [
    "### Bernoulli Distribution"
   ]
  },
  {
   "cell_type": "markdown",
   "id": "5d58c454",
   "metadata": {},
   "source": [
    "Question 1-A\n",
    "\n",
    "A vote with outcome 𝑓𝑜𝑟 or 𝑎𝑔𝑎𝑖𝑛𝑠𝑡 follows a Bernoulli distribution where 𝑃(vote = \"𝑓𝑜𝑟\") = 0.82. Represent the proportion of “for” and “against” in this single Bernoulli trial using agraphics and a percentage. Can an expectation be calculated? Justify your answer.\n"
   ]
  },
  {
   "cell_type": "code",
   "execution_count": 1,
   "id": "7c2196ca",
   "metadata": {},
   "outputs": [],
   "source": [
    "import numpy as np\n",
    "import pandas as pd"
   ]
  },
  {
   "cell_type": "code",
   "execution_count": 2,
   "id": "3ef90f9e",
   "metadata": {},
   "outputs": [],
   "source": [
    "import matplotlib.pyplot as plt\n",
    "import seaborn as sns\n",
    "from scipy.stats import bernoulli, poisson"
   ]
  },
  {
   "cell_type": "code",
   "execution_count": 3,
   "id": "264b46de",
   "metadata": {},
   "outputs": [],
   "source": [
    "import warnings\n",
    "warnings.filterwarnings('ignore')"
   ]
  },
  {
   "cell_type": "code",
   "execution_count": 4,
   "id": "2e11da64",
   "metadata": {},
   "outputs": [
    {
     "name": "stdout",
     "output_type": "stream",
     "text": [
      "Enter probability value in Favor: 0.3\n",
      "Probability in Favor(Votes For): 0.3 or 30.0 %\n",
      "Probability Against(Votes Against): 0.7 or 70.0 %\n"
     ]
    }
   ],
   "source": [
    "p = round(float(input(\"Enter probability value in Favor: \")),2) ##0.3 given in the question\n",
    "q = 1-p\n",
    "print(\"Probability in Favor(Votes For):\",p , 'or', p*100,'%')\n",
    "print(\"Probability Against(Votes Against):\", round((1-p),2), 'or', round((q*100),2), '%')"
   ]
  },
  {
   "cell_type": "markdown",
   "id": "115a4116",
   "metadata": {},
   "source": [
    "##### Reference for Chart: https://www.tutorialspoint.com/python_data_science/python_bernoulli_distribution.htm#:~:text=The%20Bernoulli%20distribution%20is%20a,number%20of%20observation%20is%201.&text=We%20use%20various%20functions%20in,values%20for%20a%20bernoulli%20distribution."
   ]
  },
  {
   "cell_type": "code",
   "execution_count": 5,
   "id": "4d540f1b",
   "metadata": {},
   "outputs": [
    {
     "data": {
      "text/plain": [
       "Text(0.5, 1.0, 'Bernoulli Distribution')"
      ]
     },
     "execution_count": 5,
     "metadata": {},
     "output_type": "execute_result"
    },
    {
     "data": {
      "image/png": "[encoded data removed]",
      "text/plain": [
       "<Figure size 432x288 with 1 Axes>"
      ]
     },
     "metadata": {
      "needs_background": "light"
     },
     "output_type": "display_data"
    },
    {
     "data": {
      "text/plain": [
       "<Figure size 1800x1440 with 0 Axes>"
      ]
     },
     "metadata": {},
     "output_type": "display_data"
    }
   ],
   "source": [
    "bern_dist = bernoulli.rvs(size=1000,p=p)\n",
    "bern_plot = sns.distplot(bern_dist,\n",
    "                  kde=True,\n",
    "                  color='red',\n",
    "                  hist_kws={\"linewidth\": 25,'alpha':1})\n",
    "\n",
    "plt.figure(figsize=(25,20))\n",
    "\n",
    "bern_plot.set(xlabel='Bernouli', ylabel='Frequency')\n",
    "bern_plot.set(xlabel='0 - Vote Against & 1 - Vote In Favor', ylabel='Proportion')\n",
    "bern_plot.set_title('Bernoulli Distribution', fontdict={'fontsize': 18, 'fontweight': 'medium'})"
   ]
  },
  {
   "cell_type": "code",
   "execution_count": 6,
   "id": "7f459edf",
   "metadata": {},
   "outputs": [],
   "source": [
    "class bernoulli():\n",
    "    def pmf(x,p):\n",
    "        \"\"\"\n",
    "        probability mass function        \n",
    "        \"\"\"\n",
    "        f = p**x*(1-p)**(1-x)\n",
    "        return f\n",
    "    \n",
    "    def mean(p):\n",
    "        \"\"\"\n",
    "        expected value of bernoulli random variable\n",
    "        \"\"\"\n",
    "        return p\n",
    "    \n",
    "    def var(p):\n",
    "        \"\"\"\n",
    "        variance of bernoulli random variable\n",
    "        \"\"\"\n",
    "        return p*(1-p)\n",
    "    \n",
    "    def std(p):\n",
    "        \"\"\"\n",
    "        standart deviation of bernoulli random variable\n",
    "        \"\"\"\n",
    "        return bernoulli.var(p)**(1/2)\n",
    "    \n",
    "    def rvs(p,size=1):\n",
    "        \"\"\"\n",
    "        random variates\n",
    "        \"\"\"\n",
    "        rvs = np.array([])\n",
    "        for i in range(0,size):\n",
    "            if np.random.rand() <= p:\n",
    "                a=1\n",
    "                rvs = np.append(rvs,a)\n",
    "            else:\n",
    "                a=0\n",
    "                rvs = np.append(rvs,a)\n",
    "        return rvs"
   ]
  },
  {
   "cell_type": "code",
   "execution_count": 7,
   "id": "7f428ab9",
   "metadata": {},
   "outputs": [
    {
     "data": {
      "text/plain": [
       "array([0.])"
      ]
     },
     "execution_count": 7,
     "metadata": {},
     "output_type": "execute_result"
    }
   ],
   "source": [
    "p=0.2\n",
    "bernoulli.rvs(p,size=1)"
   ]
  },
  {
   "cell_type": "markdown",
   "id": "79f4dd45",
   "metadata": {},
   "source": [
    "### Poisson Distribution "
   ]
  },
  {
   "cell_type": "markdown",
   "id": "5a0d93f4",
   "metadata": {},
   "source": [
    "Question 1-b\n",
    "\n",
    "The number of meteorites falling on an ocean in a given year can be modelled by a Poisson distribution with an expectation of 𝜆 = 39. Explain why a Poisson distribution is a natural candidate for this phenomenon. Give a graphic showing the probability of one, two, three… meteorites falling (until the probability is less than 0.5%). Calculate the median and variance and show them graphically on this graphic"
   ]
  },
  {
   "cell_type": "code",
   "execution_count": 8,
   "id": "c5bb87d6",
   "metadata": {},
   "outputs": [],
   "source": [
    "# Importing the statistics module\n",
    "import statistics"
   ]
  },
  {
   "cell_type": "code",
   "execution_count": 9,
   "id": "06de4cb5",
   "metadata": {},
   "outputs": [],
   "source": [
    "### Reference: https://docs.scipy.org/doc/scipy/reference/generated/scipy.stats.poisson.html"
   ]
  },
  {
   "cell_type": "code",
   "execution_count": 10,
   "id": "27d4e559",
   "metadata": {},
   "outputs": [
    {
     "data": {
      "image/png": "[encoded data removed]",
      "text/plain": [
       "<Figure size 432x288 with 1 Axes>"
      ]
     },
     "metadata": {
      "needs_background": "light"
     },
     "output_type": "display_data"
    }
   ],
   "source": [
    "prob = 0.0\n",
    "k = 1 #(at quantile k)\n",
    "mu = 39\n",
    "while prob < 0.005:\n",
    "    prob = poisson.pmf(k,mu)\n",
    "    k+=1\n",
    "\n",
    "fig, ax = plt.subplots(1, 1)\n",
    "x = np.arange(1,k)\n",
    "\n",
    "ax.plot(x, poisson.pmf(x, mu),'bo',ms=8, label='poisson pmf', color = 'green')\n",
    "ax.vlines(x, 0, poisson.pmf(x, mu), colors='yellow', lw=5, alpha=0.5)\n",
    "\n",
    "#Formatting visuals\n",
    "ax.set_title('Fall of Meteorites', fontdict={'fontsize': 14, 'fontweight': 'medium'})\n",
    "plt.xlabel('Meteorites fell in a Year',fontsize=10)\n",
    "plt.ylabel('Probability',fontsize=10)\n",
    "\n",
    "plt.show()"
   ]
  },
  {
   "cell_type": "code",
   "execution_count": 11,
   "id": "6b4ae613",
   "metadata": {},
   "outputs": [
    {
     "data": {
      "text/plain": [
       "4.9309607303212387e-11"
      ]
     },
     "execution_count": 11,
     "metadata": {},
     "output_type": "execute_result"
    }
   ],
   "source": [
    "poisson.pmf(k=5, mu=37)"
   ]
  },
  {
   "cell_type": "code",
   "execution_count": 12,
   "id": "1b50ef7f",
   "metadata": {},
   "outputs": [
    {
     "data": {
      "text/plain": [
       "3.2425580977827415e-15"
      ]
     },
     "execution_count": 12,
     "metadata": {},
     "output_type": "execute_result"
    }
   ],
   "source": [
    "poisson.cdf(k=1, mu=37)"
   ]
  },
  {
   "cell_type": "code",
   "execution_count": 13,
   "id": "0ba6111c",
   "metadata": {
    "scrolled": true
   },
   "outputs": [
    {
     "data": {
      "text/plain": [
       "(array([0.001  , 0.00275, 0.021  , 0.04725, 0.064  , 0.058  , 0.032  ,\n",
       "        0.0155 , 0.007  , 0.0015 ]),\n",
       " array([18., 22., 26., 30., 34., 38., 42., 46., 50., 54., 58.]),\n",
       " <BarContainer object of 10 artists>)"
      ]
     },
     "execution_count": 13,
     "metadata": {},
     "output_type": "execute_result"
    },
    {
     "data": {
      "image/png": "[encoded data removed]",
      "text/plain": [
       "<Figure size 432x288 with 1 Axes>"
      ]
     },
     "metadata": {
      "needs_background": "light"
     },
     "output_type": "display_data"
    }
   ],
   "source": [
    "x = poisson.rvs(mu=37,size=1000)\n",
    "plt.hist(x, density=True, edgecolor='black')"
   ]
  },
  {
   "cell_type": "code",
   "execution_count": 14,
   "id": "bb473229",
   "metadata": {},
   "outputs": [
    {
     "data": {
      "text/plain": [
       "3.1572276215253042e-15"
      ]
     },
     "execution_count": 14,
     "metadata": {},
     "output_type": "execute_result"
    }
   ],
   "source": [
    "def poisson_distribution(k, lambd):\n",
    "    return (lambd ** k * np.exp(-lambd)) / np.math.factorial(k)\n",
    "\n",
    "poisson_distribution(k=1, lambd=37)"
   ]
  },
  {
   "cell_type": "code",
   "execution_count": 15,
   "id": "e4072d78",
   "metadata": {},
   "outputs": [
    {
     "data": {
      "text/plain": [
       "3.157227621525308e-15"
      ]
     },
     "execution_count": 15,
     "metadata": {},
     "output_type": "execute_result"
    }
   ],
   "source": [
    "from scipy.stats import poisson\n",
    "\n",
    "poisson.pmf(1, 37)"
   ]
  },
  {
   "cell_type": "code",
   "execution_count": 16,
   "id": "a9b58cb4",
   "metadata": {},
   "outputs": [
    {
     "data": {
      "text/plain": [
       "<BarContainer object of 37 artists>"
      ]
     },
     "execution_count": 16,
     "metadata": {},
     "output_type": "execute_result"
    },
    {
     "data": {
      "image/png": "[encoded data removed]",
      "text/plain": [
       "<Figure size 432x288 with 1 Axes>"
      ]
     },
     "metadata": {
      "needs_background": "light"
     },
     "output_type": "display_data"
    }
   ],
   "source": [
    "lambd=5\n",
    "\n",
    "k_axis = np.arange(0, 37)\n",
    "distribution = np.zeros(k_axis.shape[0])\n",
    "for i in range(k_axis.shape[0]):\n",
    "    distribution[i] = poisson.pmf(i, lambd)\n",
    "\n",
    "plt.bar(k_axis, distribution)\n",
    "# [...] Add axes, labels...\n"
   ]
  },
  {
   "cell_type": "code",
   "execution_count": 17,
   "id": "04afa6c8",
   "metadata": {},
   "outputs": [
    {
     "data": {
      "image/png": "[encoded data removed]",
      "text/plain": [
       "<Figure size 576x1440 with 5 Axes>"
      ]
     },
     "metadata": {
      "needs_background": "light"
     },
     "output_type": "display_data"
    }
   ],
   "source": [
    "f, axes = plt.subplots(5, figsize=(8, 20), sharex=True)\n",
    "\n",
    "for lambd in range(1, 6):\n",
    "\n",
    "    k_axis = np.arange(0, 50)\n",
    "    distribution = np.zeros(k_axis.shape[0])\n",
    "    for i in range(k_axis.shape[0]):\n",
    "        distribution[i] = poisson.pmf(i, lambd)\n",
    "\n",
    "    axes[lambd-1].bar(k_axis, distribution)\n",
    "    axes[lambd-1].set_xticks(np.arange(0, 20, 2))\n",
    "    axes[lambd-1].set_title(f\"$\\lambda$: {lambd}\")\n",
    "\n",
    "# Add axes labels etc."
   ]
  },
  {
   "cell_type": "code",
   "execution_count": 33,
   "id": "537f3ea2",
   "metadata": {},
   "outputs": [],
   "source": [
    "mean,var = poisson.stats(mu, moments='mv')"
   ]
  },
  {
   "cell_type": "code",
   "execution_count": 34,
   "id": "e94323ad",
   "metadata": {
    "scrolled": true
   },
   "outputs": [
    {
     "data": {
      "image/png": "[encoded data removed]",
      "text/plain": [
       "<Figure size 432x288 with 1 Axes>"
      ]
     },
     "metadata": {
      "needs_background": "light"
     },
     "output_type": "display_data"
    }
   ],
   "source": [
    "import matplotlib.patches as mpatches\n",
    "\n",
    "plot_dist = poisson.rvs(mu=39, size=1000)\n",
    "\n",
    "ax = sns.distplot(plot_dist,\n",
    "                  kde=True,\n",
    "                  kde_kws={\"color\": \"g\"},\n",
    "                  hist_kws={\"color\": \"blue\"})\n",
    "\n",
    "median_var = plt.axvline(x=poisson.median(mu, loc=0),color='red')\n",
    "\n",
    "plt.xlabel('Distribution',fontsize=10)\n",
    "ax.set_title('Median and Variance', fontdict={'fontsize': 14, 'fontweight': 'medium'})\n",
    "\n",
    "\n",
    "median_var_patch = mpatches.Patch(color='red', label='Median/Variance')\n",
    "plt.legend(handles=[median_var_patch])\n",
    "\n",
    "plt.show()\n"
   ]
  },
  {
   "cell_type": "markdown",
   "id": "d0458443",
   "metadata": {},
   "source": [
    "#### Question 1 -c \n",
    "Let 𝑌 be the random variable with the time to hear an owl from your room’s open window (in hours). Assume that the probability that you still need to wait to hear the owl after 𝑦 hours is: \n",
    "0⋅(I7) ̅ⅇ^(-0⋅5y)+ 0.(82) ̅ⅇ^(-0.25y)\n",
    "Find the probability that you need to wait between 2 and 4 hours to hear the owl, compute and display the probability density function graph as well as a histogram by the minute. Compute and display in the graphics the mean, variance, and quartiles of the waiting times.\n"
   ]
  },
  {
   "cell_type": "code",
   "execution_count": 35,
   "id": "02203005",
   "metadata": {},
   "outputs": [
    {
     "name": "stdout",
     "output_type": "stream",
     "text": [
      "0.23522650605269768\n"
     ]
    }
   ],
   "source": [
    "#Let p1 be probability to wait for 2 hours\n",
    "#Let p2 be probability to wait for 4 hours\n",
    "\n",
    "p1 = 1 - ((0.17*np.exp(-0.5*2)) + (0.82*np.exp(-0.25*2))) # calcuate function value for 2 hours\n",
    "p2 = 1 - ((0.17*np.exp(-0.5*4)) + (0.82*np.exp(-0.25*4))) # calcuate function value for 4 hours\n",
    "print(p2-p1)"
   ]
  },
  {
   "cell_type": "code",
   "execution_count": 36,
   "id": "38c32c9b",
   "metadata": {
    "scrolled": true
   },
   "outputs": [
    {
     "data": {
      "image/png": "[encoded data removed]",
      "text/plain": [
       "<Figure size 432x288 with 1 Axes>"
      ]
     },
     "metadata": {
      "needs_background": "light"
     },
     "output_type": "display_data"
    }
   ],
   "source": [
    "y=np.arange(2,4)\n",
    "min_array=[]\n",
    "probab_array=[]\n",
    "\n",
    "##defining the function\n",
    "for ey in np.round(y,2):\n",
    "    p = (0.17*np.exp(-0.5*ey)) + (0.82*np.exp(-0.25*ey)) ##above function plotted here\n",
    "    min_array.append(int(np.round(ey*60 , 0))) ##multiplied by 60 as we have 60 mins in an hour)\n",
    "    probab_array.append(np.round(p,3))\n",
    "\n",
    "df = pd.DataFrame({'Minutes':min_array, 'Probability':probab_array})\n",
    "plt.plot(df.Minutes,df.Probability,'Teal')\n",
    "plt.ylabel('Probability')\n",
    "plt.xlabel('Waiting Time to hear Owl between 2 to 4 hours(in mins)')\n",
    "plt.show()"
   ]
  },
  {
   "cell_type": "code",
   "execution_count": 37,
   "id": "292d54bd",
   "metadata": {
    "scrolled": true
   },
   "outputs": [
    {
     "data": {
      "image/png": "[encoded data removed]",
      "text/plain": [
       "<Figure size 432x288 with 1 Axes>"
      ]
     },
     "metadata": {
      "needs_background": "light"
     },
     "output_type": "display_data"
    }
   ],
   "source": [
    "##Probability Density and Histogram showcasing the waiting period to hear an owl\n",
    "\n",
    "plt.xlabel(\"Waiting Time to hear Owl between 2 to 4 hours(in mins)\", labelpad=14)\n",
    "plt.ylabel(\"Frequency\", labelpad=14)\n",
    "plt.title(\"Histogram and PDF\", fontsize=20, y=1.01);\n",
    "sns.distplot(df, hist= True, kde=True, color='darkblue', hist_kws={'edgecolor':'purple'},\n",
    "             kde_kws={'linewidth': 1})\n",
    "\n",
    "plt.show()"
   ]
  },
  {
   "cell_type": "code",
   "execution_count": 38,
   "id": "b770e103",
   "metadata": {
    "scrolled": true
   },
   "outputs": [
    {
     "name": "stdout",
     "output_type": "stream",
     "text": [
      "          Minutes  Probability\n",
      "count    2.000000     2.000000\n",
      "mean   150.000000     0.492500\n",
      "std     42.426407     0.095459\n",
      "min    120.000000     0.425000\n",
      "25%    135.000000     0.458750\n",
      "50%    150.000000     0.492500\n",
      "75%    165.000000     0.526250\n",
      "max    180.000000     0.560000\n"
     ]
    },
    {
     "data": {
      "image/png": "[encoded data removed]",
      "text/plain": [
       "<Figure size 432x288 with 1 Axes>"
      ]
     },
     "metadata": {
      "needs_background": "light"
     },
     "output_type": "display_data"
    }
   ],
   "source": [
    "#Compute and display in the graphics the mean, variance, and quartiles of the waiting times.\n",
    "\n",
    "#using desrcibe function first to check for mean and quartiles\n",
    "print(df.describe())\n",
    "\n",
    "#mean and median have same values so boxplot suffices our need to showcase mean and quartiles\n",
    "plt.boxplot(df['Minutes'])\n",
    "plt.show()"
   ]
  },
  {
   "cell_type": "code",
   "execution_count": 39,
   "id": "b9f4003b",
   "metadata": {
    "scrolled": true
   },
   "outputs": [
    {
     "name": "stdout",
     "output_type": "stream",
     "text": [
      "Minutes        1800.000000\n",
      "Probability       0.009113\n",
      "dtype: float64\n"
     ]
    },
    {
     "data": {
      "image/png": "[encoded data removed]",
      "text/plain": [
       "<Figure size 432x288 with 1 Axes>"
      ]
     },
     "metadata": {
      "needs_background": "light"
     },
     "output_type": "display_data"
    }
   ],
   "source": [
    "print(df.var())\n",
    "plt.plot(df.var())\n",
    "plt.show()\n"
   ]
  },
  {
   "cell_type": "markdown",
   "id": "2b966580",
   "metadata": {},
   "source": [
    "#### 2. BASIC PROBABILITY AND VISUALISATION\n",
    "For each of the distributions below, please provide the requested graphics as well as the numeric results. In both cases, please provide how you realized these (calculations, code, steps…) and why it is the appropriate tools. Do not forget to include the scale of each graphics so a reader can read the numbers represented. \n",
    "a)\tConsider the variables 𝑋 and 𝑌. The realization of a sample of size 20 is given below (where 𝑋 is the first variable and 𝑌 is the second): \n",
    "(-6.793, -490.71), (0.928, 454.84), (-1.931, 442.81), (5.659, 1038.3), (7.225, 809.35), (-1.163, 51.38), (1.102, -160.67), (2.889, -250.55), (2.701, 408.57), (2.839, -35.78), (-0.234, 665.44), (4.489, -85.61), (4.543, 410.42), (0.541, 988.77), (-2.432, 84.91), (0.009, -483.3), (-3.622, 2.97), (-3.909, -312.25), (8.945, 131.63), (-2.054, -43.55)\n",
    "\n",
    "Sketch an appropriate plot that displays the values of these points. Calculate the sample covariance as well as the sample’s expectations and variances of 𝑋 and 𝑌. \n",
    "\n",
    "\n"
   ]
  },
  {
   "cell_type": "code",
   "execution_count": 21,
   "id": "f2ce6c3b",
   "metadata": {},
   "outputs": [
    {
     "data": {
      "text/html": [
       "<div>\n",
       "<style scoped>\n",
       "    .dataframe tbody tr th:only-of-type {\n",
       "        vertical-align: middle;\n",
       "    }\n",
       "\n",
       "    .dataframe tbody tr th {\n",
       "        vertical-align: top;\n",
       "    }\n",
       "\n",
       "    .dataframe thead th {\n",
       "        text-align: right;\n",
       "    }\n",
       "</style>\n",
       "<table border=\"1\" class=\"dataframe\">\n",
       "  <thead>\n",
       "    <tr style=\"text-align: right;\">\n",
       "      <th></th>\n",
       "      <th>X</th>\n",
       "      <th>Y</th>\n",
       "    </tr>\n",
       "  </thead>\n",
       "  <tbody>\n",
       "    <tr>\n",
       "      <th>0</th>\n",
       "      <td>-6.793</td>\n",
       "      <td>-490.71</td>\n",
       "    </tr>\n",
       "    <tr>\n",
       "      <th>1</th>\n",
       "      <td>0.928</td>\n",
       "      <td>454.84</td>\n",
       "    </tr>\n",
       "    <tr>\n",
       "      <th>2</th>\n",
       "      <td>-1.931</td>\n",
       "      <td>442.81</td>\n",
       "    </tr>\n",
       "    <tr>\n",
       "      <th>3</th>\n",
       "      <td>5.659</td>\n",
       "      <td>1038.30</td>\n",
       "    </tr>\n",
       "    <tr>\n",
       "      <th>4</th>\n",
       "      <td>7.225</td>\n",
       "      <td>809.35</td>\n",
       "    </tr>\n",
       "  </tbody>\n",
       "</table>\n",
       "</div>"
      ],
      "text/plain": [
       "       X        Y\n",
       "0 -6.793  -490.71\n",
       "1  0.928   454.84\n",
       "2 -1.931   442.81\n",
       "3  5.659  1038.30\n",
       "4  7.225   809.35"
      ]
     },
     "execution_count": 21,
     "metadata": {},
     "output_type": "execute_result"
    }
   ],
   "source": [
    "data = pd.DataFrame([(-6.793, -490.71), (0.928, 454.84), (-1.931, 442.81), (5.659, 1038.3), \n",
    "                     (7.225, 809.35), (-1.163, 51.38), (1.102, -160.67), (2.889, -250.55), \n",
    "                     (2.701, 408.57), (2.839, -35.78), (-0.234, 665.44), (4.489, -85.61), \n",
    "                     (4.543, 410.42), (0.541, 988.77), (-2.432, 84.91), (0.009, -483.3), \n",
    "                     (-3.622, 2.97), (-3.909, -312.25), (8.945, 131.63), (-2.054, -43.55)], columns =('X','Y'))\n",
    "data.head()"
   ]
  },
  {
   "cell_type": "code",
   "execution_count": 22,
   "id": "78f4bc31",
   "metadata": {},
   "outputs": [
    {
     "data": {
      "image/png": "[encoded data removed]",
      "text/plain": [
       "<Figure size 864x360 with 1 Axes>"
      ]
     },
     "metadata": {
      "needs_background": "light"
     },
     "output_type": "display_data"
    }
   ],
   "source": [
    "plt.figure(figsize=(12,5))\n",
    "\n",
    "plt.scatter(data[\"X\"], data[\"Y\"], color = 'mediumorchid')\n",
    "plt.xlabel('X',fontsize=15)\n",
    "plt.ylabel('Y',fontsize=15)\n",
    "\n",
    "\n",
    "plt.text(-1.163, 51.38, 'This')\n",
    "plt.text(4.543, 410.42,'That')\n",
    "plt.text(8.945, 131.63, 'Here')\n",
    "\n",
    "plt.show()"
   ]
  },
  {
   "cell_type": "code",
   "execution_count": 23,
   "id": "a14e5bf5",
   "metadata": {},
   "outputs": [
    {
     "data": {
      "image/png": "[encoded data removed]",
      "text/plain": [
       "<Figure size 576x360 with 1 Axes>"
      ]
     },
     "metadata": {
      "needs_background": "light"
     },
     "output_type": "display_data"
    }
   ],
   "source": [
    "##Reference: https://matplotlib.org/stable/gallery/shapes_and_collections/scatter.html#sphx-glr-gallery-shapes-and-collections-scatter-py\n",
    "\n",
    "plt.figure(figsize=(8,5))\n",
    "N = 20\n",
    "x = data['X']\n",
    "y = data['Y']\n",
    "colors = np.random.rand(N)\n",
    "#area = (30 * np.random.rand(N))**2  # 0 to 15 point radii\n",
    "\n",
    "plt.xlabel('X',fontsize=15)\n",
    "plt.ylabel('Y',fontsize=15)\n",
    "plt.scatter(x, y,c=colors)\n",
    "plt.show()"
   ]
  },
  {
   "cell_type": "code",
   "execution_count": 24,
   "id": "0f48feb7",
   "metadata": {},
   "outputs": [
    {
     "name": "stdout",
     "output_type": "stream",
     "text": [
      "[[1.58654707e+01 8.00629723e+02]\n",
      " [8.00629723e+02 2.06965030e+05]]\n"
     ]
    }
   ],
   "source": [
    "\n",
    "# find out covariance with respect  columns\n",
    "cov_mat = np.stack((data['X'], data['Y']), axis = 0)\n",
    " \n",
    "print(np.cov(cov_mat))"
   ]
  },
  {
   "cell_type": "code",
   "execution_count": 25,
   "id": "2e53ae3e",
   "metadata": {},
   "outputs": [
    {
     "data": {
      "text/plain": [
       "760.5982364000001"
      ]
     },
     "execution_count": 25,
     "metadata": {},
     "output_type": "execute_result"
    }
   ],
   "source": [
    "np.cov([data['X'],data['Y']], bias = True)[0][1]"
   ]
  },
  {
   "cell_type": "code",
   "execution_count": 26,
   "id": "226477fb",
   "metadata": {},
   "outputs": [
    {
     "data": {
      "text/plain": [
       "X        15.865471\n",
       "Y    206965.030224\n",
       "dtype: float64"
      ]
     },
     "execution_count": 26,
     "metadata": {},
     "output_type": "execute_result"
    }
   ],
   "source": [
    "data.var()"
   ]
  },
  {
   "cell_type": "markdown",
   "id": "b3fb702a",
   "metadata": {},
   "source": [
    "### Q4. Hypothesis Test\n",
    "Over a long period of time, the production of 1000 high-quality hammers in a factory seems to have reached a weight with an average of 971𝑔 and standard deviation of 32.1 𝑔. Propose a model for the weight of the hammers including a probability distribution for the weight. What are the assumptions for this model to hold? What parameters does this model have?\n",
    " A new production system is configured, and one wants to evaluate if the new system makes more constant weights. For this a random sample of newly produced hammers is evaluated yielding the following weights: 917, 776, 791, 757, 849, 810, 836, 815, 786, 862. What hypothesis can you formulate and what test and decision rule can you make to estimate if the new system produces a more constant weight? \n",
    "Express these assertions as logical statements involving critical values. What error probabilities can you suggest and why? Calculate the 𝑝-value. Perform the test and express conclusions. \n"
   ]
  },
  {
   "cell_type": "code",
   "execution_count": 40,
   "id": "7e786a2e",
   "metadata": {
    "scrolled": true
   },
   "outputs": [
    {
     "data": {
      "text/plain": [
       "819.9"
      ]
     },
     "execution_count": 40,
     "metadata": {},
     "output_type": "execute_result"
    }
   ],
   "source": [
    "m1 = 971.1\n",
    "s1 =15.2\n",
    "N = 10\n",
    "\n",
    "s_weights = [917, 776, 791, 757, 849, 810, 836, 815, 786, 862]\n",
    "m2 = sum(s_weights)/10\n",
    "m2\n"
   ]
  },
  {
   "cell_type": "markdown",
   "id": "0852acc7",
   "metadata": {},
   "source": [
    "#### Reference: https://www.javatpoint.com/t-test-in-python"
   ]
  },
  {
   "cell_type": "code",
   "execution_count": 41,
   "id": "d6a79a9c",
   "metadata": {},
   "outputs": [
    {
     "name": "stdout",
     "output_type": "stream",
     "text": [
      "t = 7.119396685322124\n",
      "p = 1.2373377145102893e-06\n"
     ]
    }
   ],
   "source": [
    "\n",
    "# Importing the required libraries and packages  \n",
    "import numpy as np  \n",
    "from scipy import stats      \n",
    "N = 10  # Sample Size  \n",
    "SD = statistics.stdev(s_weights) # Calculating the Standard Deviation\n",
    "# Calculating the T-Statistics  \n",
    "tval = (m1 - m2) / (SD * np.sqrt(2 / N))  \n",
    "# Comparing with the critical T-Value  \n",
    "# Degrees of freedom  \n",
    "dof = 2 * N - 2  \n",
    "# p-value after comparison with the T-Statistics  \n",
    "pval = 1 - stats.t.cdf( tval, df = dof)  \n",
    "print(\"t = \" + str(tval))  \n",
    "print(\"p = \" + str(2 * pval))  \n"
   ]
  }
 ],
 "metadata": {
  "kernelspec": {
   "display_name": "Python 3 (ipykernel)",
   "language": "python",
   "name": "python3"
  },
  "language_info": {
   "codemirror_mode": {
    "name": "ipython",
    "version": 3
   },
   "file_extension": ".py",
   "mimetype": "text/x-python",
   "name": "python",
   "nbconvert_exporter": "python",
   "pygments_lexer": "ipython3",
   "version": "3.9.7"
  }
 },
 "nbformat": 4,
 "nbformat_minor": 5
}
